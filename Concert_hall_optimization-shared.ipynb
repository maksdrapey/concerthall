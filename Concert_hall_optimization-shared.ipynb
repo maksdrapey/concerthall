{
 "cells": [
  {
   "cell_type": "code",
   "execution_count": null,
   "metadata": {},
   "outputs": [],
   "source": [
    "## install the pytorch3d package; hit 'shift+enter' keys to run\n",
    "!conda create --name pytorch3d --yes\n",
    "!conda activate pytorch3d\n",
    "!conda install pytorch torchvision cudatoolkit=10.1 -c pytorch --yes\n",
    "!conda install -c conda-forge -c takatosp1 fvcore --yes\n",
    "!conda install pytorch3d -c pytorch3d --yes\n",
    "!python3 -m pip install PyGEL3D tqdm pandas scipy opencv-python \n",
    "!python3 -m pip install --upgrade matplotlib"
   ]
  },
  {
   "cell_type": "code",
   "execution_count": null,
   "metadata": {},
   "outputs": [],
   "source": [
    "## download the concerthall optimization code base; hit 'shift+enter' keys to run\n",
    "!git clone https://github.com/alexacarlson/concerthall.git /storage/concerthall"
   ]
  },
  {
   "cell_type": "code",
   "execution_count": null,
   "metadata": {},
   "outputs": [],
   "source": [
    "## Train the graph convolutional neural network; hit 'shift+enter' keys to run\n",
    "## NOTES on Training the Graph Convolutional Neural network to map 3D meshes --> audio quality parameters:\n",
    "## To train your own graph convolutional network, you first need to create a folder in paperspace storage \n",
    "## at `/storage/concert_dataset` upload your data there. All of your meshes should be `.obj` files and\n",
    "## should exist in a subdirectory of the dataset: `/storage/concert_dataset/OBJdatabase/`. \n",
    "## You will need to have a csv file of acoustic paramters (where each line is in the format `mesh.obj acoust_param1 acoust_param2 ... acoust_param10`) \n",
    "## located at and named `/storage/concert_dataset/AcousticParameters.csv`.\n",
    "## The results (network weights and training loss values) will be saved to `/storage/mesh2acoustic_training_results`.\n",
    "##\n",
    "## Note that this function takes in the absolute filepath of a configuration file (CFG_PATH) that sets up the network architecture.\n",
    "## To train on 8 quality metric labels:\n",
    "#!cd /storage/concerthall && bash run_train_graphconv_regression.sh \"/storage/concerthall/config/mesh2audioparams_8class.yml\"\n",
    "## To train on 10 quality metric labels:\n",
    "!cd /storage/concerthall && bash run_train_graphconv_regression.sh \"/storage/concerthall/config/mesh2audioparams_train.yml\""
   ]
  },
  {
   "cell_type": "code",
   "execution_count": null,
   "metadata": {},
   "outputs": [],
   "source": [
    "## run the optimization framework; hit 'shift+enter' keys to run\n",
    "## IMPORTANT INFO about running the acoustic optimization script:\n",
    "## The Command Format for this script: \n",
    "## bash run_acousticoptim.sh INPUT_MESH SILHOUETTE_DEFORM_FLAG SILHOUETTE_REF_IMG ACOUSTIC_DEFORM_FLAG WHICH_ACOUSTIC_PARAMS OUTPUT_NAME\n",
    "## where `INPUT_MESH_FILEPATH` is the absolute filepath of the mesh you would like to deform, \n",
    "##       `TRAINED_GRAPH_FILEPATH` is the filepath to the trained mesh2acoustic graph convolutional neural network,\n",
    "##       `SILHOUETTE_DEFORM_FLAG` is either True or False depending on if you would like to deform the mesh to optimize for a specific 2D silhouette, \n",
    "##       `SILHOUETTE_REF_IMG_FILEPATH` is the absolute filepath of the silhouette image you would like to use for mesh deformation, \n",
    "##       `SIL_WEIGHT` is a float number that weights the silhouette loss.\n",
    "##       `CAMPOSITION_FILEPATH` is the absolute filepath of the text file that contains camera positions to render silhouette from mesh. \n",
    "##                           Note that each line of the file describes the location of one camera (e.g., two lines will yeild two cameras). \n",
    "##                           The location of each camera is described by its distance from the mesh, the elevation of the camera, and the angle from the x axis. \n",
    "##       `ACOUSTIC_DEFORM_FLAG` is either True or False depending on if you would like to deform the mesh to optimize for acostic quality, \n",
    "##       `ACOUST_DEFORM_WEIGHT` is a float number that weights the acoustic deform loss.\n",
    "##       `WHICH_ACOUSTIC_PARAMS` is a string of the 10 acoustic quality parameters (each parameter needs to be separated by a comma with no spaces in between, see example below), \n",
    "##       `OUTPUT_FILENAME` is the absolute filepath where you would like the deformed output mesh to be saved.\n",
    "##       `CFG_FILE` is the absolute path to the configuration file. You will need to change this to the config file path that you used for training the model (see above cell)\n",
    "##\n",
    "## Example Command:\n",
    "#!cd /storage/concerthall && bash run_acousticoptim.sh \\\n",
    "#                            INPUT_MESH_FILEPATH \\\n",
    "#                            TRAINED_GRAPH_FILEPATH \\\n",
    "#                            SILHOUETTE_DEFORM_FLAG \\\n",
    "#                            SILHOUETTE_REF_IMG_FILEPATH \\\n",
    "#                            SIL_WEIGHT \\\n",
    "#                            CAMPOSITION_FILEPATH \\\n",
    "#                            ACOUSTIC_DEFORM_FLAG \\\n",
    "#                            ACOUST_DEFORM_WEIGHT \\\n",
    "#                            WHICH_ACOUSTIC_PARAMS \\\n",
    "#                            OUTPUT_FILENAME \\\n",
    "#                            CFG_FILE\n",
    "#\n",
    "!cd /storage/concerthall && bash run_acousticoptim.sh \\\n",
    "                            \"/storage/3Dmodels/bench.obj\" \\\n",
    "                            \"/storage/concerthall_model_epoch99.pkl\"\\\n",
    "                            \"True\" \\\n",
    "                            \"/storage/2Dmodels/new000343.png\" \\\n",
    "                            0.5 \\\n",
    "                            \"/storage/camppos.txt\" \\\n",
    "                            \"True\" \\\n",
    "                            10.0  \\\n",
    "                            '2660,24920,1.25,2066,17.7,57.7,0.54,0.31,9.37,1.55'  \\\n",
    "                            \"test_sil_deform.obj\" \\\n",
    "                            '/storage/concerthall/config/mesh2audioparams_train.yml'\n"
   ]
  },
  {
   "cell_type": "code",
   "execution_count": null,
   "metadata": {},
   "outputs": [],
   "source": []
  }
 ],
 "metadata": {
  "kernelspec": {
   "display_name": "Python 3",
   "language": "python",
   "name": "python3"
  },
  "language_info": {
   "codemirror_mode": {
    "name": "ipython",
    "version": 3
   },
   "file_extension": ".py",
   "mimetype": "text/x-python",
   "name": "python",
   "nbconvert_exporter": "python",
   "pygments_lexer": "ipython3",
   "version": "3.6.8"
  }
 },
 "nbformat": 4,
 "nbformat_minor": 4
}
